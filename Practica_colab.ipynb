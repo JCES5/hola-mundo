{
  "nbformat": 4,
  "nbformat_minor": 0,
  "metadata": {
    "colab": {
      "provenance": [],
      "authorship_tag": "ABX9TyPORuwLyYnrvM3w+m+LZvy0",
      "include_colab_link": true
    },
    "kernelspec": {
      "name": "python3",
      "display_name": "Python 3"
    },
    "language_info": {
      "name": "python"
    }
  },
  "cells": [
    {
      "cell_type": "markdown",
      "metadata": {
        "id": "view-in-github",
        "colab_type": "text"
      },
      "source": [
        "<a href=\"https://colab.research.google.com/github/JCES5/hola-mundo/blob/rama2/Practica_colab.ipynb\" target=\"_parent\"><img src=\"https://colab.research.google.com/assets/colab-badge.svg\" alt=\"Open In Colab\"/></a>"
      ]
    },
    {
      "cell_type": "code",
      "execution_count": null,
      "metadata": {
        "id": "EB8e7b9960L3"
      },
      "outputs": [],
      "source": [
        "# prompt: crear un programa que haga sumas y restas\n",
        "\n",
        "def suma(a, b):\n",
        "  \"\"\"Realiza la suma de dos números.\"\"\"\n",
        "  return a + b\n",
        "\n",
        "def resta(a, b):\n",
        "  \"\"\"Realiza la resta de dos números.\"\"\"\n",
        "  return a - b\n",
        "\n",
        "# Ejemplo de uso\n",
        "num1 = 10\n",
        "num2 = 5\n",
        "\n",
        "suma_result = suma(num1, num2)\n",
        "resta_result = resta(num1, num2)\n",
        "\n",
        "print(f\"La suma de {num1} y {num2} es: {suma_result}\")\n",
        "print(f\"La resta de {num1} y {num2} es: {resta_result}\")\n"
      ]
    },
    {
      "cell_type": "markdown",
      "source": [
        "#PROGRAMA QUE REALIZA SUMAS Y RESTAS\n",
        "## Realiza sumas y restas con dos variables"
      ],
      "metadata": {
        "id": "htbLfeCc7DW2"
      }
    },
    {
      "cell_type": "markdown",
      "source": [],
      "metadata": {
        "id": "z91LjD7061i_"
      }
    },
    {
      "cell_type": "code",
      "source": [
        "# prompt: calculo del iva\n",
        "\n",
        "def calcular_iva(precio, porcentaje_iva=21):\n",
        "  \"\"\"Calcula el IVA de un precio dado.\"\"\"\n",
        "  iva = precio * (porcentaje_iva / 100)\n",
        "  return iva\n",
        "\n",
        "# Ejemplo de uso\n",
        "precio_producto = 100\n",
        "iva_calculado = calcular_iva(precio_producto)\n",
        "\n",
        "print(f\"El IVA del producto con precio {precio_producto} es: {iva_calculado}\")\n",
        "print(f\"El precio total con IVA es: {precio_producto + iva_calculado}\")\n"
      ],
      "metadata": {
        "id": "WkvbeBsE62tG"
      },
      "execution_count": null,
      "outputs": []
    },
    {
      "cell_type": "markdown",
      "source": [
        "#CALCULO DE IVA\n",
        "##Puede calcular el iva de un valor"
      ],
      "metadata": {
        "id": "CuBvQEFM7W5d"
      }
    }
  ]
}